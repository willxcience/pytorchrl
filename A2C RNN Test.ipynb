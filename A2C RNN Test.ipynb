{
 "cells": [
  {
   "cell_type": "code",
   "execution_count": 1,
   "metadata": {
    "scrolled": true
   },
   "outputs": [],
   "source": [
    "import torchrl\n",
    "from torchrl.utils import make_parallel_env\n",
    "\n",
    "import torch\n",
    "import numpy as np\n",
    "\n",
    "from torchrl.a2c import RolloutStorage\n",
    "from torchrl.a2c import ActorCritic\n",
    "from collections import deque\n",
    "\n",
    "import time\n",
    "\n",
    "import pdb"
   ]
  },
  {
   "cell_type": "code",
   "execution_count": 2,
   "metadata": {},
   "outputs": [],
   "source": [
    "torch.set_num_threads(1)\n",
    "device = torch.device(\"cuda\")"
   ]
  },
  {
   "cell_type": "code",
   "execution_count": 3,
   "metadata": {},
   "outputs": [],
   "source": [
    "import gym\n",
    "from torchrl.utils import atari_wrappers\n",
    "env = atari_wrappers.make_atari(\"Breakout-v4\")"
   ]
  },
  {
   "cell_type": "code",
   "execution_count": 4,
   "metadata": {},
   "outputs": [
    {
     "data": {
      "text/plain": [
       "(210, 160, 3)"
      ]
     },
     "execution_count": 4,
     "metadata": {},
     "output_type": "execute_result"
    }
   ],
   "source": [
    "env.reset().shape"
   ]
  },
  {
   "cell_type": "code",
   "execution_count": 5,
   "metadata": {},
   "outputs": [],
   "source": [
    "params = {}\n",
    "params[\"rollout_len\"] = 5\n",
    "params[\"num_workers\"] = 32\n",
    "\n",
    "env = make_parallel_env(\"Breakout-v4\", \n",
    "                        seed=1, num_workers=params[\"num_workers\"], \n",
    "                        num_frame_stack=4, device=device, log_dir=\"results\")\n",
    "\n",
    "params[\"obs_shape\"] = env.observation_space.shape\n",
    "params[\"action_shape\"] = env.action_space.n\n",
    "\n",
    "params[\"total_steps\"] = 1e7\n",
    "params[\"discount_gamma\"] = 0.99\n",
    "params[\"gae_tau\"] = 0.95\n",
    "params[\"use_gae\"] = False\n",
    "params[\"entropy_coef\"] = 0.01\n",
    "params[\"value_coef\"] = 0.5\n",
    "params['num_in_channels'] = 4\n",
    "params[\"max_grad_norm\"] = 0.5\n",
    "params[\"learning_rate\"] = 7e-4\n",
    "params[\"RMS_alpha\"] = 0.99\n",
    "params[\"RMS_eps\"] = 1e-5\n",
    "params[\"resume\"] = False"
   ]
  },
  {
   "cell_type": "code",
   "execution_count": 6,
   "metadata": {},
   "outputs": [],
   "source": [
    "obs = env.reset()"
   ]
  },
  {
   "cell_type": "code",
   "execution_count": 7,
   "metadata": {},
   "outputs": [
    {
     "data": {
      "text/plain": [
       "torch.Size([32, 4, 84, 84])"
      ]
     },
     "execution_count": 7,
     "metadata": {},
     "output_type": "execute_result"
    }
   ],
   "source": [
    "obs.shape"
   ]
  },
  {
   "cell_type": "code",
   "execution_count": null,
   "metadata": {},
   "outputs": [],
   "source": [
    "rollouts = RolloutStorage(params)\n",
    "rollouts.obs[0].copy_(obs)\n",
    "rollouts.to(device)"
   ]
  },
  {
   "cell_type": "code",
   "execution_count": null,
   "metadata": {},
   "outputs": [],
   "source": [
    "model = ActorCritic(params).to(device)"
   ]
  },
  {
   "cell_type": "code",
   "execution_count": null,
   "metadata": {},
   "outputs": [],
   "source": [
    "optimizer = torch.optim.RMSprop(model.parameters(),\n",
    "                           params[\"learning_rate\"],\n",
    "                           alpha=params[\"RMS_alpha\"],\n",
    "                           eps=params[\"RMS_eps\"]\n",
    "                          )"
   ]
  },
  {
   "cell_type": "code",
   "execution_count": null,
   "metadata": {},
   "outputs": [],
   "source": [
    "num_steps = 0"
   ]
  },
  {
   "cell_type": "code",
   "execution_count": null,
   "metadata": {
    "scrolled": true
   },
   "outputs": [],
   "source": [
    "episode_rewards = deque(maxlen=50)\n",
    "\n",
    "t0 = time.time()\n",
    "\n",
    "batch_size = int(params[\"num_workers\"] * params[\"rollout_len\"])\n",
    "num_iter = int(params[\"total_steps\"] // batch_size)\n",
    "log_interval = 1000\n",
    "log_iter = int(log_interval // batch_size)\n",
    "\n",
    "rollouts.obs[0].copy_(obs)\n",
    "\n",
    "for e in range(num_iter):\n",
    "    #-------------------\n",
    "    # Evaluation Network \n",
    "    #-------------------\n",
    "\n",
    "    # collect rollout\n",
    "    for step in range(params[\"rollout_len\"]):\n",
    "        # Sample actions\n",
    "        with torch.no_grad():\n",
    "            actions, values = model.act(rollouts.obs[step])\n",
    "\n",
    "        # move a step\n",
    "        states, rewards, dones, infos = env.step(actions)\n",
    "\n",
    "        for info in infos:\n",
    "            if 'episode' in info.keys():\n",
    "                episode_rewards.append(info['episode']['r'])\n",
    "\n",
    "        rollouts.insert(states, rewards, 1 - torch.from_numpy(dones.astype(np.float32)), actions, values.squeeze())\n",
    "\n",
    "    # calculate the next value\n",
    "    with torch.no_grad():\n",
    "        next_value = model.get_value(rollouts.obs[-1]).squeeze()\n",
    "\n",
    "    rollouts.compute_returns(next_value)\n",
    "    # to cpu or gpu\n",
    "    rollouts.to(device)\n",
    "    \n",
    "\n",
    "    #---------------\n",
    "    # Update Network \n",
    "    #---------------\n",
    "    \n",
    "    batch_states = rollouts.obs[:-1].view(-1, *params[\"obs_shape\"])\n",
    "    batch_actions = rollouts.actions.view(-1)\n",
    "\n",
    "    log_probs, values, entropy = model.eval_action(batch_states, batch_actions)\n",
    "    \n",
    "    advs = rollouts.returns[:-1].view(-1) - values.squeeze()\n",
    "    value_loss = advs.pow(2).mean()\n",
    "    policy_loss = -(advs.detach() * log_probs).mean()\n",
    "    \n",
    "    loss = policy_loss + params[\"value_coef\"]*value_loss - params[\"entropy_coef\"]*entropy\n",
    "\n",
    "\n",
    "    optimizer.zero_grad()\n",
    "    loss.backward()\n",
    "    torch.nn.utils.clip_grad_norm_(\n",
    "            model.parameters(), params[\"max_grad_norm\"])\n",
    "    optimizer.step()\n",
    "    \n",
    "    rollouts.after_update()\n",
    "\n",
    "    # time for logging\n",
    "    if e % log_iter == 0:\n",
    "        if len(episode_rewards) > 0:\n",
    "            print('Total steps: %d Returns %.2f/%.2f/%.2f/%.2f (mean/median/min/max)  %.2f steps/s' % (\n",
    "                num_steps,\n",
    "                np.mean(episode_rewards),\n",
    "                np.median(episode_rewards),\n",
    "                np.min(episode_rewards),\n",
    "                np.max(episode_rewards),\n",
    "                batch_size * log_iter / (time.time() - t0)\n",
    "            ))\n",
    "            t0 = time.time()\n",
    "    \n",
    "    num_steps += params[\"rollout_len\"] * params[\"num_workers\"]\n"
   ]
  },
  {
   "cell_type": "code",
   "execution_count": null,
   "metadata": {},
   "outputs": [],
   "source": []
  },
  {
   "cell_type": "code",
   "execution_count": null,
   "metadata": {},
   "outputs": [],
   "source": []
  },
  {
   "cell_type": "code",
   "execution_count": null,
   "metadata": {},
   "outputs": [],
   "source": []
  },
  {
   "cell_type": "code",
   "execution_count": null,
   "metadata": {},
   "outputs": [],
   "source": []
  }
 ],
 "metadata": {
  "kernelspec": {
   "display_name": "Python [default]",
   "language": "python",
   "name": "python3"
  },
  "language_info": {
   "codemirror_mode": {
    "name": "ipython",
    "version": 3
   },
   "file_extension": ".py",
   "mimetype": "text/x-python",
   "name": "python",
   "nbconvert_exporter": "python",
   "pygments_lexer": "ipython3",
   "version": "3.7.0"
  }
 },
 "nbformat": 4,
 "nbformat_minor": 2
}
